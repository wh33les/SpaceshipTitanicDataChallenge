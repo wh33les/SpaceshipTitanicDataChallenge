{
 "cells": [
  {
   "cell_type": "markdown",
   "id": "1fe8d0ac",
   "metadata": {},
   "source": [
    "# Which passengers were transported to an alternate dimension?"
   ]
  },
  {
   "cell_type": "markdown",
   "id": "095404af",
   "metadata": {},
   "source": [
    "First import the train data."
   ]
  },
  {
   "cell_type": "code",
   "execution_count": 1,
   "id": "ef08bba8",
   "metadata": {},
   "outputs": [],
   "source": [
    "import pandas as pd\n",
    "\n",
    "raw_train_data = pd.read_csv(\"spaceship_titanic_data\\\\train.csv\")"
   ]
  },
  {
   "cell_type": "markdown",
   "id": "42ad487d",
   "metadata": {},
   "source": [
    "## Cleaning\n",
    "\n",
    "The data has a lot of missing values.  By using the info() function we can see the only columns without missing data are PassengerID and Transported.  We can also see that many of the columns are object data types."
   ]
  },
  {
   "cell_type": "code",
   "execution_count": 2,
   "id": "74f2fcac",
   "metadata": {},
   "outputs": [
    {
     "name": "stdout",
     "output_type": "stream",
     "text": [
      "<class 'pandas.core.frame.DataFrame'>\n",
      "RangeIndex: 8693 entries, 0 to 8692\n",
      "Data columns (total 14 columns):\n",
      " #   Column        Non-Null Count  Dtype  \n",
      "---  ------        --------------  -----  \n",
      " 0   PassengerId   8693 non-null   object \n",
      " 1   HomePlanet    8492 non-null   object \n",
      " 2   CryoSleep     8476 non-null   object \n",
      " 3   Cabin         8494 non-null   object \n",
      " 4   Destination   8511 non-null   object \n",
      " 5   Age           8514 non-null   float64\n",
      " 6   VIP           8490 non-null   object \n",
      " 7   RoomService   8512 non-null   float64\n",
      " 8   FoodCourt     8510 non-null   float64\n",
      " 9   ShoppingMall  8485 non-null   float64\n",
      " 10  Spa           8510 non-null   float64\n",
      " 11  VRDeck        8505 non-null   float64\n",
      " 12  Name          8493 non-null   object \n",
      " 13  Transported   8693 non-null   bool   \n",
      "dtypes: bool(1), float64(6), object(7)\n",
      "memory usage: 891.5+ KB\n"
     ]
    }
   ],
   "source": [
    "raw_train_data.info()"
   ]
  },
  {
   "cell_type": "raw",
   "id": "3a29b62f",
   "metadata": {},
   "source": [
    "To save memory, we can convert the object data types, where there is only a small number of values, to categorial data types.  So HomePlanet, CryoSleep, Destination, VIP, and Transported.  We create a new data frame by copying the raw data frame."
   ]
  },
  {
   "cell_type": "code",
   "execution_count": 3,
   "id": "98c4a393",
   "metadata": {},
   "outputs": [
    {
     "name": "stdout",
     "output_type": "stream",
     "text": [
      "<class 'pandas.core.frame.DataFrame'>\n",
      "RangeIndex: 8693 entries, 0 to 8692\n",
      "Data columns (total 14 columns):\n",
      " #   Column        Non-Null Count  Dtype   \n",
      "---  ------        --------------  -----   \n",
      " 0   PassengerId   8693 non-null   object  \n",
      " 1   HomePlanet    8492 non-null   category\n",
      " 2   CryoSleep     8476 non-null   category\n",
      " 3   Cabin         8494 non-null   object  \n",
      " 4   Destination   8511 non-null   category\n",
      " 5   Age           8514 non-null   float64 \n",
      " 6   VIP           8490 non-null   category\n",
      " 7   RoomService   8512 non-null   float64 \n",
      " 8   FoodCourt     8510 non-null   float64 \n",
      " 9   ShoppingMall  8485 non-null   float64 \n",
      " 10  Spa           8510 non-null   float64 \n",
      " 11  VRDeck        8505 non-null   float64 \n",
      " 12  Name          8493 non-null   object  \n",
      " 13  Transported   8693 non-null   category\n",
      "dtypes: category(5), float64(6), object(3)\n",
      "memory usage: 654.4+ KB\n"
     ]
    }
   ],
   "source": [
    "cleaned_train_data = raw_train_data.copy()\n",
    "categories = [\"HomePlanet\", \"CryoSleep\", \"Destination\", \"VIP\", \"Transported\"]\n",
    "for column in categories:\n",
    "    cleaned_train_data[column] = cleaned_train_data[column].astype(\"category\")\n",
    "cleaned_train_data.info()"
   ]
  },
  {
   "cell_type": "markdown",
   "id": "2e47c72f",
   "metadata": {},
   "source": [
    "We can use imputation on the columns with missing data.  For HomePlanet, CryoSleep, Destination, and VIP we can replace the missing entries with the entry that occurs the most.  For Cabin and Name we can replace the missing entries with \"Unknown\".  For Age, RoomService, FoodCourt, ShoppingMall, Spa, and VRDeck we can replace the missing entries with the mean value."
   ]
  },
  {
   "cell_type": "code",
   "execution_count": 4,
   "id": "8c7bdd4e",
   "metadata": {},
   "outputs": [
    {
     "name": "stdout",
     "output_type": "stream",
     "text": [
      "<class 'pandas.core.frame.DataFrame'>\n",
      "RangeIndex: 8693 entries, 0 to 8692\n",
      "Data columns (total 14 columns):\n",
      " #   Column        Non-Null Count  Dtype   \n",
      "---  ------        --------------  -----   \n",
      " 0   PassengerId   8693 non-null   object  \n",
      " 1   HomePlanet    8693 non-null   category\n",
      " 2   CryoSleep     8693 non-null   category\n",
      " 3   Cabin         8693 non-null   object  \n",
      " 4   Destination   8693 non-null   category\n",
      " 5   Age           8693 non-null   float64 \n",
      " 6   VIP           8693 non-null   category\n",
      " 7   RoomService   8693 non-null   float64 \n",
      " 8   FoodCourt     8693 non-null   float64 \n",
      " 9   ShoppingMall  8693 non-null   float64 \n",
      " 10  Spa           8693 non-null   float64 \n",
      " 11  VRDeck        8693 non-null   float64 \n",
      " 12  Name          8693 non-null   object  \n",
      " 13  Transported   8693 non-null   category\n",
      "dtypes: category(5), float64(6), object(3)\n",
      "memory usage: 654.4+ KB\n"
     ]
    }
   ],
   "source": [
    "for column in [\"HomePlanet\", \"CryoSleep\", \"Destination\", \"VIP\"]:\n",
    "    cleaned_train_data[column].fillna(cleaned_train_data[column].mode()[0], inplace=True) \n",
    "    # code found at https://stackoverflow.com/questions/40619445/how-to-replace-na-values-with-mode-of-a-dataframe-column-in-python\n",
    "for column in [\"Cabin\", \"Name\"]:\n",
    "    cleaned_train_data.loc[cleaned_train_data[column].isna(), column] = \"Unknown\"\n",
    "for column in [\"Age\", \"RoomService\", \"FoodCourt\", \"ShoppingMall\", \"Spa\", \"VRDeck\"]:\n",
    "    cleaned_train_data.loc[cleaned_train_data[column].isna(), column] = cleaned_train_data[column].mean()    \n",
    "cleaned_train_data.info()    "
   ]
  },
  {
   "cell_type": "markdown",
   "id": "5476bec3",
   "metadata": {},
   "source": [
    "Since the Cabin entries have the form deck/num/side, we add two separate columns for deck and side, then change those columns to categorical values.  For the \"Unknown\" entries we use \"Unknown\" again for the deck and side.  Then we change the data types to \"category\"."
   ]
  },
  {
   "cell_type": "code",
   "execution_count": 5,
   "id": "48ddb7d2",
   "metadata": {},
   "outputs": [
    {
     "name": "stdout",
     "output_type": "stream",
     "text": [
      "<class 'pandas.core.frame.DataFrame'>\n",
      "RangeIndex: 8693 entries, 0 to 8692\n",
      "Data columns (total 16 columns):\n",
      " #   Column        Non-Null Count  Dtype   \n",
      "---  ------        --------------  -----   \n",
      " 0   PassengerId   8693 non-null   object  \n",
      " 1   HomePlanet    8693 non-null   category\n",
      " 2   CryoSleep     8693 non-null   category\n",
      " 3   Cabin         8693 non-null   object  \n",
      " 4   Destination   8693 non-null   category\n",
      " 5   Age           8693 non-null   float64 \n",
      " 6   VIP           8693 non-null   category\n",
      " 7   RoomService   8693 non-null   float64 \n",
      " 8   FoodCourt     8693 non-null   float64 \n",
      " 9   ShoppingMall  8693 non-null   float64 \n",
      " 10  Spa           8693 non-null   float64 \n",
      " 11  VRDeck        8693 non-null   float64 \n",
      " 12  Name          8693 non-null   object  \n",
      " 13  Transported   8693 non-null   category\n",
      " 14  Deck          8693 non-null   category\n",
      " 15  Side          8693 non-null   category\n",
      "dtypes: category(7), float64(6), object(3)\n",
      "memory usage: 672.1+ KB\n"
     ]
    }
   ],
   "source": [
    "deck_values = []\n",
    "side_values = []\n",
    "for cabin in cleaned_train_data[\"Cabin\"]:\n",
    "    if cabin != \"Unknown\":\n",
    "        cabin.replace(\"/\", \",\")\n",
    "        deck_values.append(cabin[0])\n",
    "        side_values.append(cabin[2])\n",
    "    else:\n",
    "        deck_values.append(\"Unknown\")\n",
    "        side_values.append(\"Unknown\")\n",
    "cleaned_train_data[\"Deck\"] = deck_values\n",
    "cleaned_train_data[\"Side\"] = side_values\n",
    "for column in [\"Deck\", \"Side\"]:\n",
    "    cleaned_train_data[column] = cleaned_train_data[column].astype(\"category\")\n",
    "cleaned_train_data.info()"
   ]
  },
  {
   "cell_type": "markdown",
   "id": "2642dfd0",
   "metadata": {},
   "source": [
    "## Algorithm\n",
    "\n",
    "Now that we've cleaned the data somewhat, we can apply the predicting algorithm.  I've chosen to apply the standard $k$-nearest neighbors classifier to all the columns except for PassengerID, Cabin, Name, and Transported (the feature we are predicting).  However, we still have categorical features that we need to convert to numerical.  We use one-hot encoding.\n",
    "\n",
    "_Alternatively:_ Since we are using one-hot encoding we can do a PCA transform of the data.  That would reveal correlations between features and we can see if \"Transported\" is among them."
   ]
  },
  {
   "cell_type": "code",
   "execution_count": 23,
   "id": "8e46f81d",
   "metadata": {},
   "outputs": [
    {
     "data": {
      "text/plain": [
       "[array(['Earth', 'Europa', 'Mars'], dtype=object),\n",
       " array([False, True], dtype=object),\n",
       " array(['55 Cancri e', 'PSO J318.5-22', 'TRAPPIST-1e'], dtype=object),\n",
       " array([ 0.        ,  1.        ,  2.        ,  3.        ,  4.        ,\n",
       "         5.        ,  6.        ,  7.        ,  8.        ,  9.        ,\n",
       "        10.        , 11.        , 12.        , 13.        , 14.        ,\n",
       "        15.        , 16.        , 17.        , 18.        , 19.        ,\n",
       "        20.        , 21.        , 22.        , 23.        , 24.        ,\n",
       "        25.        , 26.        , 27.        , 28.        , 28.82793047,\n",
       "        29.        , 30.        , 31.        , 32.        , 33.        ,\n",
       "        34.        , 35.        , 36.        , 37.        , 38.        ,\n",
       "        39.        , 40.        , 41.        , 42.        , 43.        ,\n",
       "        44.        , 45.        , 46.        , 47.        , 48.        ,\n",
       "        49.        , 50.        , 51.        , 52.        , 53.        ,\n",
       "        54.        , 55.        , 56.        , 57.        , 58.        ,\n",
       "        59.        , 60.        , 61.        , 62.        , 63.        ,\n",
       "        64.        , 65.        , 66.        , 67.        , 68.        ,\n",
       "        69.        , 70.        , 71.        , 72.        , 73.        ,\n",
       "        74.        , 75.        , 76.        , 77.        , 78.        ,\n",
       "        79.        ]),\n",
       " array([False, True], dtype=object),\n",
       " array([0.0000e+00, 1.0000e+00, 2.0000e+00, ..., 8.5860e+03, 9.9200e+03,\n",
       "        1.4327e+04]),\n",
       " array([0.0000e+00, 1.0000e+00, 2.0000e+00, ..., 2.7071e+04, 2.7723e+04,\n",
       "        2.9813e+04]),\n",
       " array([0.0000e+00, 1.0000e+00, 2.0000e+00, ..., 1.0705e+04, 1.2253e+04,\n",
       "        2.3492e+04]),\n",
       " array([0.0000e+00, 1.0000e+00, 2.0000e+00, ..., 1.6594e+04, 1.8572e+04,\n",
       "        2.2408e+04]),\n",
       " array([0.0000e+00, 1.0000e+00, 2.0000e+00, ..., 1.7306e+04, 2.0336e+04,\n",
       "        2.4133e+04]),\n",
       " array(['A', 'B', 'C', 'D', 'E', 'F', 'G', 'T', 'Unknown'], dtype=object),\n",
       " array(['0', '1', '2', '3', '4', '5', '6', '7', '8', '9', 'Unknown'],\n",
       "       dtype=object)]"
      ]
     },
     "execution_count": 23,
     "metadata": {},
     "output_type": "execute_result"
    }
   ],
   "source": [
    "# Tried to use OneHotEncoder, couldn't finish it.\n",
    "\n",
    "from sklearn.preprocessing import OneHotEncoder\n",
    "\n",
    "to_train = cleaned_train_data[cleaned_train_data.columns[1:]]\n",
    "to_train = to_train.drop(columns = [\"Cabin\", \"Name\", \"Transported\"])\n",
    "true_values = cleaned_train_data[\"Transported\"]\n",
    "\n",
    "enc = OneHotEncoder(handle_unknown='ignore')\n",
    "enc.fit(to_train)\n",
    "enc.categories_"
   ]
  }
 ],
 "metadata": {
  "kernelspec": {
   "display_name": "Python 3 (ipykernel)",
   "language": "python",
   "name": "python3"
  },
  "language_info": {
   "codemirror_mode": {
    "name": "ipython",
    "version": 3
   },
   "file_extension": ".py",
   "mimetype": "text/x-python",
   "name": "python",
   "nbconvert_exporter": "python",
   "pygments_lexer": "ipython3",
   "version": "3.9.12"
  }
 },
 "nbformat": 4,
 "nbformat_minor": 5
}
